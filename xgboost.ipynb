{
 "cells": [
  {
   "cell_type": "markdown",
   "id": "49fdfa0e-eb0f-416a-a793-632fea1ed5df",
   "metadata": {},
   "source": [
    "## Import all essential libraries required for data preprocessing, modeling, and interpretability in this experiment"
   ]
  },
  {
   "cell_type": "code",
   "execution_count": 98,
   "id": "96b46117-95d0-496d-9216-37a4252de6ad",
   "metadata": {},
   "outputs": [],
   "source": [
    "import pandas as pd\n",
    "import numpy as np\n",
    "from sklearn.model_selection import train_test_split\n",
    "from sklearn.metrics import classification_report, accuracy_score\n",
    "import xgboost as xgb\n",
    "from sklearn.metrics import accuracy_score, f1_score, roc_auc_score\n",
    "import shap\n",
    "import matplotlib.pyplot as plt\n",
    "from sklearn.preprocessing import StandardScaler\n",
    "from xgboost import XGBClassifier\n",
    "from sklearn.metrics import confusion_matrix, ConfusionMatrixDisplay, roc_curve, auc\n",
    "from sklearn.model_selection import train_test_split, GridSearchCV\n",
    "from sklearn.metrics import classification_report\n",
    "from sklearn.model_selection import train_test_split, GridSearchCV, cross_val_score\n",
    "from sklearn.metrics import classification_report, ConfusionMatrixDisplay, RocCurveDisplay"
   ]
  },
  {
   "cell_type": "markdown",
   "id": "9a15e4c8-01b3-4a19-9d3b-65a650dc7268",
   "metadata": {},
   "source": [
    "## Load the data"
   ]
  },
  {
   "cell_type": "code",
   "execution_count": 99,
   "id": "0855485a-7d4e-44c1-8bbd-f0469cc02866",
   "metadata": {},
   "outputs": [],
   "source": [
    "df = pd.read_csv(\"breast_cancer.csv\")"
   ]
  },
  {
   "cell_type": "markdown",
   "id": "68359eed-f39b-4c58-8b37-d43c5bb6aca5",
   "metadata": {},
   "source": [
    "##  View the first 5 rows"
   ]
  },
  {
   "cell_type": "code",
   "execution_count": 100,
   "id": "b77819ee-5e3e-4c0d-a3ff-cb5b53d93cd3",
   "metadata": {},
   "outputs": [
    {
     "data": {
      "text/html": [
       "<div>\n",
       "<style scoped>\n",
       "    .dataframe tbody tr th:only-of-type {\n",
       "        vertical-align: middle;\n",
       "    }\n",
       "\n",
       "    .dataframe tbody tr th {\n",
       "        vertical-align: top;\n",
       "    }\n",
       "\n",
       "    .dataframe thead th {\n",
       "        text-align: right;\n",
       "    }\n",
       "</style>\n",
       "<table border=\"1\" class=\"dataframe\">\n",
       "  <thead>\n",
       "    <tr style=\"text-align: right;\">\n",
       "      <th></th>\n",
       "      <th>Age</th>\n",
       "      <th>Race</th>\n",
       "      <th>Marital Status</th>\n",
       "      <th>Unnamed: 3</th>\n",
       "      <th>T Stage</th>\n",
       "      <th>N Stage</th>\n",
       "      <th>6th Stage</th>\n",
       "      <th>Grade</th>\n",
       "      <th>A Stage</th>\n",
       "      <th>Tumor Size</th>\n",
       "      <th>Estrogen Status</th>\n",
       "      <th>Progesterone Status</th>\n",
       "      <th>Regional Node Examined</th>\n",
       "      <th>Reginol Node Positive</th>\n",
       "      <th>Survival Months</th>\n",
       "      <th>Status</th>\n",
       "    </tr>\n",
       "  </thead>\n",
       "  <tbody>\n",
       "    <tr>\n",
       "      <th>0</th>\n",
       "      <td>43</td>\n",
       "      <td>Other (American Indian/AK Native, Asian/Pacifi...</td>\n",
       "      <td>Married (including common law)</td>\n",
       "      <td>NaN</td>\n",
       "      <td>T2</td>\n",
       "      <td>N3</td>\n",
       "      <td>IIIC</td>\n",
       "      <td>Moderately differentiated; Grade II</td>\n",
       "      <td>Regional</td>\n",
       "      <td>40</td>\n",
       "      <td>Positive</td>\n",
       "      <td>Positive</td>\n",
       "      <td>19</td>\n",
       "      <td>11</td>\n",
       "      <td>1</td>\n",
       "      <td>Alive</td>\n",
       "    </tr>\n",
       "    <tr>\n",
       "      <th>1</th>\n",
       "      <td>47</td>\n",
       "      <td>Other (American Indian/AK Native, Asian/Pacifi...</td>\n",
       "      <td>Married (including common law)</td>\n",
       "      <td>NaN</td>\n",
       "      <td>T2</td>\n",
       "      <td>N2</td>\n",
       "      <td>IIIA</td>\n",
       "      <td>Moderately differentiated; Grade II</td>\n",
       "      <td>Regional</td>\n",
       "      <td>45</td>\n",
       "      <td>Positive</td>\n",
       "      <td>Positive</td>\n",
       "      <td>25</td>\n",
       "      <td>9</td>\n",
       "      <td>2</td>\n",
       "      <td>Alive</td>\n",
       "    </tr>\n",
       "    <tr>\n",
       "      <th>2</th>\n",
       "      <td>67</td>\n",
       "      <td>White</td>\n",
       "      <td>Married (including common law)</td>\n",
       "      <td>NaN</td>\n",
       "      <td>T2</td>\n",
       "      <td>N1</td>\n",
       "      <td>IIB</td>\n",
       "      <td>Poorly differentiated; Grade III</td>\n",
       "      <td>Regional</td>\n",
       "      <td>25</td>\n",
       "      <td>Positive</td>\n",
       "      <td>Positive</td>\n",
       "      <td>4</td>\n",
       "      <td>1</td>\n",
       "      <td>2</td>\n",
       "      <td>Dead</td>\n",
       "    </tr>\n",
       "    <tr>\n",
       "      <th>3</th>\n",
       "      <td>46</td>\n",
       "      <td>White</td>\n",
       "      <td>Divorced</td>\n",
       "      <td>NaN</td>\n",
       "      <td>T1</td>\n",
       "      <td>N1</td>\n",
       "      <td>IIA</td>\n",
       "      <td>Moderately differentiated; Grade II</td>\n",
       "      <td>Regional</td>\n",
       "      <td>19</td>\n",
       "      <td>Positive</td>\n",
       "      <td>Positive</td>\n",
       "      <td>26</td>\n",
       "      <td>1</td>\n",
       "      <td>2</td>\n",
       "      <td>Dead</td>\n",
       "    </tr>\n",
       "    <tr>\n",
       "      <th>4</th>\n",
       "      <td>63</td>\n",
       "      <td>White</td>\n",
       "      <td>Married (including common law)</td>\n",
       "      <td>NaN</td>\n",
       "      <td>T2</td>\n",
       "      <td>N2</td>\n",
       "      <td>IIIA</td>\n",
       "      <td>Moderately differentiated; Grade II</td>\n",
       "      <td>Regional</td>\n",
       "      <td>35</td>\n",
       "      <td>Positive</td>\n",
       "      <td>Positive</td>\n",
       "      <td>21</td>\n",
       "      <td>5</td>\n",
       "      <td>3</td>\n",
       "      <td>Dead</td>\n",
       "    </tr>\n",
       "  </tbody>\n",
       "</table>\n",
       "</div>"
      ],
      "text/plain": [
       "   Age                                              Race   \\\n",
       "0   43  Other (American Indian/AK Native, Asian/Pacifi...   \n",
       "1   47  Other (American Indian/AK Native, Asian/Pacifi...   \n",
       "2   67                                              White   \n",
       "3   46                                              White   \n",
       "4   63                                              White   \n",
       "\n",
       "                   Marital Status  Unnamed: 3 T Stage  N Stage 6th Stage  \\\n",
       "0  Married (including common law)         NaN       T2      N3      IIIC   \n",
       "1  Married (including common law)         NaN       T2      N2      IIIA   \n",
       "2  Married (including common law)         NaN       T2      N1       IIB   \n",
       "3                        Divorced         NaN       T1      N1       IIA   \n",
       "4  Married (including common law)         NaN       T2      N2      IIIA   \n",
       "\n",
       "                                 Grade   A Stage  Tumor Size Estrogen Status  \\\n",
       "0  Moderately differentiated; Grade II  Regional          40        Positive   \n",
       "1  Moderately differentiated; Grade II  Regional          45        Positive   \n",
       "2     Poorly differentiated; Grade III  Regional          25        Positive   \n",
       "3  Moderately differentiated; Grade II  Regional          19        Positive   \n",
       "4  Moderately differentiated; Grade II  Regional          35        Positive   \n",
       "\n",
       "  Progesterone Status  Regional Node Examined  Reginol Node Positive  \\\n",
       "0            Positive                      19                     11   \n",
       "1            Positive                      25                      9   \n",
       "2            Positive                       4                      1   \n",
       "3            Positive                      26                      1   \n",
       "4            Positive                      21                      5   \n",
       "\n",
       "   Survival Months Status  \n",
       "0                1  Alive  \n",
       "1                2  Alive  \n",
       "2                2   Dead  \n",
       "3                2   Dead  \n",
       "4                3   Dead  "
      ]
     },
     "execution_count": 100,
     "metadata": {},
     "output_type": "execute_result"
    }
   ],
   "source": [
    "df.head()"
   ]
  },
  {
   "cell_type": "markdown",
   "id": "69c11404-185f-47f3-b305-e756262e24aa",
   "metadata": {},
   "source": [
    "## Check column types and null values"
   ]
  },
  {
   "cell_type": "code",
   "execution_count": 101,
   "id": "0feba1f5-e42a-4de1-a238-fab9c3df6303",
   "metadata": {},
   "outputs": [
    {
     "name": "stdout",
     "output_type": "stream",
     "text": [
      "<class 'pandas.core.frame.DataFrame'>\n",
      "RangeIndex: 4024 entries, 0 to 4023\n",
      "Data columns (total 16 columns):\n",
      " #   Column                  Non-Null Count  Dtype  \n",
      "---  ------                  --------------  -----  \n",
      " 0   Age                     4024 non-null   int64  \n",
      " 1   Race                    4024 non-null   object \n",
      " 2   Marital Status          4024 non-null   object \n",
      " 3   Unnamed: 3              0 non-null      float64\n",
      " 4   T Stage                 4024 non-null   object \n",
      " 5   N Stage                 4024 non-null   object \n",
      " 6   6th Stage               4024 non-null   object \n",
      " 7   Grade                   4024 non-null   object \n",
      " 8   A Stage                 4024 non-null   object \n",
      " 9   Tumor Size              4024 non-null   int64  \n",
      " 10  Estrogen Status         4024 non-null   object \n",
      " 11  Progesterone Status     4024 non-null   object \n",
      " 12  Regional Node Examined  4024 non-null   int64  \n",
      " 13  Reginol Node Positive   4024 non-null   int64  \n",
      " 14  Survival Months         4024 non-null   int64  \n",
      " 15  Status                  4024 non-null   object \n",
      "dtypes: float64(1), int64(5), object(10)\n",
      "memory usage: 503.1+ KB\n"
     ]
    }
   ],
   "source": [
    "df.info() "
   ]
  },
  {
   "cell_type": "markdown",
   "id": "47909731-fc16-4f78-ad0a-c950f40d326a",
   "metadata": {},
   "source": [
    "## Summary statistics for numerical columns"
   ]
  },
  {
   "cell_type": "code",
   "execution_count": 102,
   "id": "f2613b72-9c61-4571-b623-036bbefcc9a1",
   "metadata": {},
   "outputs": [
    {
     "data": {
      "text/html": [
       "<div>\n",
       "<style scoped>\n",
       "    .dataframe tbody tr th:only-of-type {\n",
       "        vertical-align: middle;\n",
       "    }\n",
       "\n",
       "    .dataframe tbody tr th {\n",
       "        vertical-align: top;\n",
       "    }\n",
       "\n",
       "    .dataframe thead th {\n",
       "        text-align: right;\n",
       "    }\n",
       "</style>\n",
       "<table border=\"1\" class=\"dataframe\">\n",
       "  <thead>\n",
       "    <tr style=\"text-align: right;\">\n",
       "      <th></th>\n",
       "      <th>Age</th>\n",
       "      <th>Unnamed: 3</th>\n",
       "      <th>Tumor Size</th>\n",
       "      <th>Regional Node Examined</th>\n",
       "      <th>Reginol Node Positive</th>\n",
       "      <th>Survival Months</th>\n",
       "    </tr>\n",
       "  </thead>\n",
       "  <tbody>\n",
       "    <tr>\n",
       "      <th>count</th>\n",
       "      <td>4024.000000</td>\n",
       "      <td>0.0</td>\n",
       "      <td>4024.000000</td>\n",
       "      <td>4024.000000</td>\n",
       "      <td>4024.000000</td>\n",
       "      <td>4024.000000</td>\n",
       "    </tr>\n",
       "    <tr>\n",
       "      <th>mean</th>\n",
       "      <td>53.972167</td>\n",
       "      <td>NaN</td>\n",
       "      <td>30.473658</td>\n",
       "      <td>14.357107</td>\n",
       "      <td>4.158052</td>\n",
       "      <td>71.297962</td>\n",
       "    </tr>\n",
       "    <tr>\n",
       "      <th>std</th>\n",
       "      <td>8.963134</td>\n",
       "      <td>NaN</td>\n",
       "      <td>21.119696</td>\n",
       "      <td>8.099675</td>\n",
       "      <td>5.109331</td>\n",
       "      <td>22.921430</td>\n",
       "    </tr>\n",
       "    <tr>\n",
       "      <th>min</th>\n",
       "      <td>30.000000</td>\n",
       "      <td>NaN</td>\n",
       "      <td>1.000000</td>\n",
       "      <td>1.000000</td>\n",
       "      <td>1.000000</td>\n",
       "      <td>1.000000</td>\n",
       "    </tr>\n",
       "    <tr>\n",
       "      <th>25%</th>\n",
       "      <td>47.000000</td>\n",
       "      <td>NaN</td>\n",
       "      <td>16.000000</td>\n",
       "      <td>9.000000</td>\n",
       "      <td>1.000000</td>\n",
       "      <td>56.000000</td>\n",
       "    </tr>\n",
       "    <tr>\n",
       "      <th>50%</th>\n",
       "      <td>54.000000</td>\n",
       "      <td>NaN</td>\n",
       "      <td>25.000000</td>\n",
       "      <td>14.000000</td>\n",
       "      <td>2.000000</td>\n",
       "      <td>73.000000</td>\n",
       "    </tr>\n",
       "    <tr>\n",
       "      <th>75%</th>\n",
       "      <td>61.000000</td>\n",
       "      <td>NaN</td>\n",
       "      <td>38.000000</td>\n",
       "      <td>19.000000</td>\n",
       "      <td>5.000000</td>\n",
       "      <td>90.000000</td>\n",
       "    </tr>\n",
       "    <tr>\n",
       "      <th>max</th>\n",
       "      <td>69.000000</td>\n",
       "      <td>NaN</td>\n",
       "      <td>140.000000</td>\n",
       "      <td>61.000000</td>\n",
       "      <td>46.000000</td>\n",
       "      <td>107.000000</td>\n",
       "    </tr>\n",
       "  </tbody>\n",
       "</table>\n",
       "</div>"
      ],
      "text/plain": [
       "               Age  Unnamed: 3   Tumor Size  Regional Node Examined  \\\n",
       "count  4024.000000         0.0  4024.000000             4024.000000   \n",
       "mean     53.972167         NaN    30.473658               14.357107   \n",
       "std       8.963134         NaN    21.119696                8.099675   \n",
       "min      30.000000         NaN     1.000000                1.000000   \n",
       "25%      47.000000         NaN    16.000000                9.000000   \n",
       "50%      54.000000         NaN    25.000000               14.000000   \n",
       "75%      61.000000         NaN    38.000000               19.000000   \n",
       "max      69.000000         NaN   140.000000               61.000000   \n",
       "\n",
       "       Reginol Node Positive  Survival Months  \n",
       "count            4024.000000      4024.000000  \n",
       "mean                4.158052        71.297962  \n",
       "std                 5.109331        22.921430  \n",
       "min                 1.000000         1.000000  \n",
       "25%                 1.000000        56.000000  \n",
       "50%                 2.000000        73.000000  \n",
       "75%                 5.000000        90.000000  \n",
       "max                46.000000       107.000000  "
      ]
     },
     "execution_count": 102,
     "metadata": {},
     "output_type": "execute_result"
    }
   ],
   "source": [
    "df.describe()"
   ]
  },
  {
   "cell_type": "markdown",
   "id": "6bcb928f-ce08-4966-b086-d83cfdc48115",
   "metadata": {},
   "source": [
    "## Check for Missing Values"
   ]
  },
  {
   "cell_type": "code",
   "execution_count": 103,
   "id": "8a04dd65-bb1c-49e1-961f-cdea0532be58",
   "metadata": {},
   "outputs": [
    {
     "data": {
      "text/plain": [
       "Age                          0\n",
       "Race                         0\n",
       "Marital Status               0\n",
       "Unnamed: 3                4024\n",
       "T Stage                      0\n",
       "N Stage                      0\n",
       "6th Stage                    0\n",
       "Grade                        0\n",
       "A Stage                      0\n",
       "Tumor Size                   0\n",
       "Estrogen Status              0\n",
       "Progesterone Status          0\n",
       "Regional Node Examined       0\n",
       "Reginol Node Positive        0\n",
       "Survival Months              0\n",
       "Status                       0\n",
       "dtype: int64"
      ]
     },
     "execution_count": 103,
     "metadata": {},
     "output_type": "execute_result"
    }
   ],
   "source": [
    "df.isnull().sum()"
   ]
  },
  {
   "cell_type": "markdown",
   "id": "b1c52586-8557-44d8-9ada-34b628e6b705",
   "metadata": {},
   "source": [
    "## Convert 'Survival Months' to numeric (if applicable)"
   ]
  },
  {
   "cell_type": "code",
   "execution_count": 104,
   "id": "329ef482-20c6-47bc-b479-9cd256f015df",
   "metadata": {},
   "outputs": [],
   "source": [
    "df['Survival Months'] = pd.to_numeric(df['Survival Months'], errors='coerce')"
   ]
  },
  {
   "cell_type": "markdown",
   "id": "7ac5327f-920b-4d20-9959-a5c7843bf856",
   "metadata": {},
   "source": [
    "## Drop rows with missing survival months"
   ]
  },
  {
   "cell_type": "code",
   "execution_count": 105,
   "id": "164a8cbe-ec8c-4f03-a968-949f8af58f47",
   "metadata": {},
   "outputs": [],
   "source": [
    "df.dropna(subset=['Survival Months'], inplace=True)"
   ]
  },
  {
   "cell_type": "markdown",
   "id": "548d438b-8ac6-4bd9-8e48-ba64774dace3",
   "metadata": {},
   "source": [
    "## Create binary target variable: survived >= 5 years or not"
   ]
  },
  {
   "cell_type": "code",
   "execution_count": 106,
   "id": "24317c92-b4d1-417c-8236-c0dff137191a",
   "metadata": {},
   "outputs": [],
   "source": [
    "df['Survival_5yr'] = np.where(df['Survival Months'] >= 60, 1, 0)"
   ]
  },
  {
   "cell_type": "code",
   "execution_count": 107,
   "id": "e96abc5a-05bc-4fb2-a697-77d93c7d59ae",
   "metadata": {},
   "outputs": [
    {
     "data": {
      "text/html": [
       "<div>\n",
       "<style scoped>\n",
       "    .dataframe tbody tr th:only-of-type {\n",
       "        vertical-align: middle;\n",
       "    }\n",
       "\n",
       "    .dataframe tbody tr th {\n",
       "        vertical-align: top;\n",
       "    }\n",
       "\n",
       "    .dataframe thead th {\n",
       "        text-align: right;\n",
       "    }\n",
       "</style>\n",
       "<table border=\"1\" class=\"dataframe\">\n",
       "  <thead>\n",
       "    <tr style=\"text-align: right;\">\n",
       "      <th></th>\n",
       "      <th>Age</th>\n",
       "      <th>Race</th>\n",
       "      <th>Marital Status</th>\n",
       "      <th>Unnamed: 3</th>\n",
       "      <th>T Stage</th>\n",
       "      <th>N Stage</th>\n",
       "      <th>6th Stage</th>\n",
       "      <th>Grade</th>\n",
       "      <th>A Stage</th>\n",
       "      <th>Tumor Size</th>\n",
       "      <th>Estrogen Status</th>\n",
       "      <th>Progesterone Status</th>\n",
       "      <th>Regional Node Examined</th>\n",
       "      <th>Reginol Node Positive</th>\n",
       "      <th>Survival Months</th>\n",
       "      <th>Status</th>\n",
       "      <th>Survival_5yr</th>\n",
       "    </tr>\n",
       "  </thead>\n",
       "  <tbody>\n",
       "    <tr>\n",
       "      <th>0</th>\n",
       "      <td>43</td>\n",
       "      <td>Other (American Indian/AK Native, Asian/Pacifi...</td>\n",
       "      <td>Married (including common law)</td>\n",
       "      <td>NaN</td>\n",
       "      <td>T2</td>\n",
       "      <td>N3</td>\n",
       "      <td>IIIC</td>\n",
       "      <td>Moderately differentiated; Grade II</td>\n",
       "      <td>Regional</td>\n",
       "      <td>40</td>\n",
       "      <td>Positive</td>\n",
       "      <td>Positive</td>\n",
       "      <td>19</td>\n",
       "      <td>11</td>\n",
       "      <td>1</td>\n",
       "      <td>Alive</td>\n",
       "      <td>0</td>\n",
       "    </tr>\n",
       "    <tr>\n",
       "      <th>1</th>\n",
       "      <td>47</td>\n",
       "      <td>Other (American Indian/AK Native, Asian/Pacifi...</td>\n",
       "      <td>Married (including common law)</td>\n",
       "      <td>NaN</td>\n",
       "      <td>T2</td>\n",
       "      <td>N2</td>\n",
       "      <td>IIIA</td>\n",
       "      <td>Moderately differentiated; Grade II</td>\n",
       "      <td>Regional</td>\n",
       "      <td>45</td>\n",
       "      <td>Positive</td>\n",
       "      <td>Positive</td>\n",
       "      <td>25</td>\n",
       "      <td>9</td>\n",
       "      <td>2</td>\n",
       "      <td>Alive</td>\n",
       "      <td>0</td>\n",
       "    </tr>\n",
       "    <tr>\n",
       "      <th>2</th>\n",
       "      <td>67</td>\n",
       "      <td>White</td>\n",
       "      <td>Married (including common law)</td>\n",
       "      <td>NaN</td>\n",
       "      <td>T2</td>\n",
       "      <td>N1</td>\n",
       "      <td>IIB</td>\n",
       "      <td>Poorly differentiated; Grade III</td>\n",
       "      <td>Regional</td>\n",
       "      <td>25</td>\n",
       "      <td>Positive</td>\n",
       "      <td>Positive</td>\n",
       "      <td>4</td>\n",
       "      <td>1</td>\n",
       "      <td>2</td>\n",
       "      <td>Dead</td>\n",
       "      <td>0</td>\n",
       "    </tr>\n",
       "    <tr>\n",
       "      <th>3</th>\n",
       "      <td>46</td>\n",
       "      <td>White</td>\n",
       "      <td>Divorced</td>\n",
       "      <td>NaN</td>\n",
       "      <td>T1</td>\n",
       "      <td>N1</td>\n",
       "      <td>IIA</td>\n",
       "      <td>Moderately differentiated; Grade II</td>\n",
       "      <td>Regional</td>\n",
       "      <td>19</td>\n",
       "      <td>Positive</td>\n",
       "      <td>Positive</td>\n",
       "      <td>26</td>\n",
       "      <td>1</td>\n",
       "      <td>2</td>\n",
       "      <td>Dead</td>\n",
       "      <td>0</td>\n",
       "    </tr>\n",
       "    <tr>\n",
       "      <th>4</th>\n",
       "      <td>63</td>\n",
       "      <td>White</td>\n",
       "      <td>Married (including common law)</td>\n",
       "      <td>NaN</td>\n",
       "      <td>T2</td>\n",
       "      <td>N2</td>\n",
       "      <td>IIIA</td>\n",
       "      <td>Moderately differentiated; Grade II</td>\n",
       "      <td>Regional</td>\n",
       "      <td>35</td>\n",
       "      <td>Positive</td>\n",
       "      <td>Positive</td>\n",
       "      <td>21</td>\n",
       "      <td>5</td>\n",
       "      <td>3</td>\n",
       "      <td>Dead</td>\n",
       "      <td>0</td>\n",
       "    </tr>\n",
       "  </tbody>\n",
       "</table>\n",
       "</div>"
      ],
      "text/plain": [
       "   Age                                              Race   \\\n",
       "0   43  Other (American Indian/AK Native, Asian/Pacifi...   \n",
       "1   47  Other (American Indian/AK Native, Asian/Pacifi...   \n",
       "2   67                                              White   \n",
       "3   46                                              White   \n",
       "4   63                                              White   \n",
       "\n",
       "                   Marital Status  Unnamed: 3 T Stage  N Stage 6th Stage  \\\n",
       "0  Married (including common law)         NaN       T2      N3      IIIC   \n",
       "1  Married (including common law)         NaN       T2      N2      IIIA   \n",
       "2  Married (including common law)         NaN       T2      N1       IIB   \n",
       "3                        Divorced         NaN       T1      N1       IIA   \n",
       "4  Married (including common law)         NaN       T2      N2      IIIA   \n",
       "\n",
       "                                 Grade   A Stage  Tumor Size Estrogen Status  \\\n",
       "0  Moderately differentiated; Grade II  Regional          40        Positive   \n",
       "1  Moderately differentiated; Grade II  Regional          45        Positive   \n",
       "2     Poorly differentiated; Grade III  Regional          25        Positive   \n",
       "3  Moderately differentiated; Grade II  Regional          19        Positive   \n",
       "4  Moderately differentiated; Grade II  Regional          35        Positive   \n",
       "\n",
       "  Progesterone Status  Regional Node Examined  Reginol Node Positive  \\\n",
       "0            Positive                      19                     11   \n",
       "1            Positive                      25                      9   \n",
       "2            Positive                       4                      1   \n",
       "3            Positive                      26                      1   \n",
       "4            Positive                      21                      5   \n",
       "\n",
       "   Survival Months Status  Survival_5yr  \n",
       "0                1  Alive             0  \n",
       "1                2  Alive             0  \n",
       "2                2   Dead             0  \n",
       "3                2   Dead             0  \n",
       "4                3   Dead             0  "
      ]
     },
     "execution_count": 107,
     "metadata": {},
     "output_type": "execute_result"
    }
   ],
   "source": [
    "df.head()"
   ]
  },
  {
   "cell_type": "markdown",
   "id": "a5fbde7f-3b31-4d4a-8a46-6371d52a029d",
   "metadata": {},
   "source": [
    "## Drop original survival columns to avoid leakage and Strip whitespace in column names"
   ]
  },
  {
   "cell_type": "code",
   "execution_count": 108,
   "id": "bb39d55f-7811-4ca4-a9ea-71872da564fd",
   "metadata": {},
   "outputs": [],
   "source": [
    "df.drop(['Status', 'Survival Months'], axis=1, inplace=True)\n",
    "df.columns = df.columns.str.strip()"
   ]
  },
  {
   "cell_type": "markdown",
   "id": "0a982bdf-1c88-4d26-b6c4-cf0aa2866a70",
   "metadata": {},
   "source": [
    "## Identify categorical columns, One-hot encode categorical columns and  Define features and target"
   ]
  },
  {
   "cell_type": "code",
   "execution_count": 109,
   "id": "eeb4c6b1-ebcb-440b-90bb-4660c63403ee",
   "metadata": {},
   "outputs": [],
   "source": [
    "categorical_cols = df.select_dtypes(include=['object', 'category']).columns\n",
    "\n",
    "df_encoded = pd.get_dummies(df, columns=categorical_cols, drop_first=True)\n",
    "\n",
    "X = df_encoded.drop('Survival_5yr', axis=1)\n",
    "y = df_encoded['Survival_5yr']"
   ]
  },
  {
   "cell_type": "markdown",
   "id": "851f2131-054a-431a-a5d0-4e2c44b407b9",
   "metadata": {},
   "source": [
    "## Train-Test Split the dataset"
   ]
  },
  {
   "cell_type": "code",
   "execution_count": 110,
   "id": "4602927b-b067-4fd6-ba58-59ce48043668",
   "metadata": {},
   "outputs": [],
   "source": [
    "X_train, X_test, y_train, y_test = train_test_split(\n",
    "    X, y, test_size=0.2, random_state=42, stratify=y\n",
    ")"
   ]
  },
  {
   "cell_type": "markdown",
   "id": "fd41497a-c89a-4b1d-a475-dc640bf99c21",
   "metadata": {},
   "source": [
    "##  Standardize Features "
   ]
  },
  {
   "cell_type": "code",
   "execution_count": 111,
   "id": "35ec9598-55af-43aa-a147-8da4cf0fef88",
   "metadata": {},
   "outputs": [
    {
     "name": "stderr",
     "output_type": "stream",
     "text": [
      "C:\\Users\\yeman\\AppData\\Roaming\\Python\\Python312\\site-packages\\sklearn\\utils\\extmath.py:1144: RuntimeWarning: invalid value encountered in divide\n",
      "  updated_mean = (last_sum + new_sum) / updated_sample_count\n",
      "C:\\Users\\yeman\\AppData\\Roaming\\Python\\Python312\\site-packages\\sklearn\\utils\\extmath.py:1149: RuntimeWarning: invalid value encountered in divide\n",
      "  T = new_sum / new_sample_count\n",
      "C:\\Users\\yeman\\AppData\\Roaming\\Python\\Python312\\site-packages\\sklearn\\utils\\extmath.py:1169: RuntimeWarning: invalid value encountered in divide\n",
      "  new_unnormalized_variance -= correction**2 / new_sample_count\n"
     ]
    }
   ],
   "source": [
    "scaler = StandardScaler()\n",
    "X_train_scaled = scaler.fit_transform(X_train)\n",
    "X_test_scaled = scaler.transform(X_test)"
   ]
  },
  {
   "cell_type": "markdown",
   "id": "be2588d4-ee44-4ed1-9618-a289f7cf67cd",
   "metadata": {},
   "source": [
    "## Train XGBoost, Predict and evaluate the dataset"
   ]
  },
  {
   "cell_type": "code",
   "execution_count": 112,
   "id": "11622361-4c6d-4d6a-8687-ba03df070799",
   "metadata": {},
   "outputs": [
    {
     "name": "stderr",
     "output_type": "stream",
     "text": [
      "C:\\Users\\yeman\\anaconda3\\Lib\\site-packages\\xgboost\\training.py:183: UserWarning: [19:06:22] WARNING: C:\\actions-runner\\_work\\xgboost\\xgboost\\src\\learner.cc:738: \n",
      "Parameters: { \"use_label_encoder\" } are not used.\n",
      "\n",
      "  bst.update(dtrain, iteration=i, fobj=obj)\n"
     ]
    },
    {
     "name": "stdout",
     "output_type": "stream",
     "text": [
      "Classification Report for XGBoost Model:\n",
      "\n",
      "              precision    recall  f1-score   support\n",
      "\n",
      "           0       0.38      0.18      0.24       241\n",
      "           1       0.71      0.88      0.79       564\n",
      "\n",
      "    accuracy                           0.67       805\n",
      "   macro avg       0.55      0.53      0.52       805\n",
      "weighted avg       0.62      0.67      0.62       805\n",
      "\n",
      "ROC-AUC: 0.5192534063152938\n"
     ]
    }
   ],
   "source": [
    "xgb_model = XGBClassifier(use_label_encoder=False, eval_metric='logloss', random_state=42)\n",
    "xgb_model.fit(X_train, y_train)\n",
    "\n",
    "y_pred_xgb = xgb_model.predict(X_test)\n",
    "y_prob_xgb = xgb_model.predict_proba(X_test)[:, 1]\n",
    "\n",
    "print(\"Classification Report for XGBoost Model:\\n\")\n",
    "print(classification_report(y_test, y_pred_xgb))\n",
    "print(\"ROC-AUC:\", roc_auc_score(y_test, y_prob_xgb))"
   ]
  },
  {
   "cell_type": "markdown",
   "id": "24ec7ab5-2315-4565-8a9a-a5a20179fd2c",
   "metadata": {},
   "source": [
    "## Plot ROC Curves"
   ]
  },
  {
   "cell_type": "code",
   "execution_count": 113,
   "id": "e51a8714-59ce-419d-a1f1-23e337dab56a",
   "metadata": {},
   "outputs": [
    {
     "data": {
      "image/png": "[encoded data removed]",
      "text/plain": [
       "<Figure size 600x400 with 1 Axes>"
      ]
     },
     "metadata": {},
     "output_type": "display_data"
    }
   ],
   "source": [
    "fpr_xgb, tpr_xgb, _ = roc_curve(y_test, y_prob_xgb)\n",
    "\n",
    "plt.figure(figsize=(6, 4))\n",
    "\n",
    "plt.plot(fpr_xgb, tpr_xgb, label='XGBoost')\n",
    "plt.plot([0, 1], [0, 1], linestyle='--', color='gray')\n",
    "plt.xlabel('False Positive Rate')\n",
    "plt.ylabel('True Positive Rate')\n",
    "plt.title('ROC Curve Comparison')\n",
    "plt.legend()\n",
    "plt.grid()\n",
    "plt.show()"
   ]
  },
  {
   "cell_type": "markdown",
   "id": "490bc085-39cb-4058-948d-8248bbc3eb60",
   "metadata": {},
   "source": [
    "## Top 10 Feature Importances XGBoost"
   ]
  },
  {
   "cell_type": "code",
   "execution_count": 114,
   "id": "3f9ad080-793a-488f-a2ad-3c4b86a54200",
   "metadata": {},
   "outputs": [
    {
     "data": {
      "image/png": "[encoded data removed]",
      "text/plain": [
       "<Figure size 600x400 with 1 Axes>"
      ]
     },
     "metadata": {},
     "output_type": "display_data"
    },
    {
     "name": "stdout",
     "output_type": "stream",
     "text": [
      "Classification Report for XGBoost Model for top 10:\n",
      "\n",
      "              precision    recall  f1-score   support\n",
      "\n",
      "           0       0.38      0.18      0.24       241\n",
      "           1       0.71      0.88      0.79       564\n",
      "\n",
      "    accuracy                           0.67       805\n",
      "   macro avg       0.55      0.53      0.52       805\n",
      "weighted avg       0.62      0.67      0.62       805\n",
      "\n"
     ]
    }
   ],
   "source": [
    "importances_xgb = pd.Series(xgb_model.feature_importances_, index=X.columns)\n",
    "top10_xgb = importances_xgb.sort_values(ascending=False).head(10)\n",
    "\n",
    "top10_xgb.plot(kind='barh', title='Top 10 Important Features (XGBoost)', figsize=(6, 4))\n",
    "plt.gca().invert_yaxis()\n",
    "plt.xlabel('Feature Importance Score')\n",
    "plt.show()\n",
    "print(\"Classification Report for XGBoost Model for top 10:\\n\")\n",
    "print(classification_report(y_test, y_pred_xgb))"
   ]
  },
  {
   "cell_type": "markdown",
   "id": "06479dcc-ecfc-494d-83fa-8ef0aa00b6f0",
   "metadata": {},
   "source": [
    "## Top 5 Feature Importances XGBoost"
   ]
  },
  {
   "cell_type": "code",
   "execution_count": 115,
   "id": "9ab19982-2498-4a14-85af-712ecc865cbb",
   "metadata": {},
   "outputs": [
    {
     "data": {
      "image/png": "[encoded data removed]",
      "text/plain": [
       "<Figure size 600x400 with 1 Axes>"
      ]
     },
     "metadata": {},
     "output_type": "display_data"
    },
    {
     "name": "stdout",
     "output_type": "stream",
     "text": [
      "Classification Report for XGBoost Model for top 5:\n",
      "\n",
      "              precision    recall  f1-score   support\n",
      "\n",
      "           0       0.38      0.18      0.24       241\n",
      "           1       0.71      0.88      0.79       564\n",
      "\n",
      "    accuracy                           0.67       805\n",
      "   macro avg       0.55      0.53      0.52       805\n",
      "weighted avg       0.62      0.67      0.62       805\n",
      "\n"
     ]
    }
   ],
   "source": [
    "importances_xgb = pd.Series(xgb_model.feature_importances_, index=X.columns)\n",
    "top5_xgb = importances_xgb.sort_values(ascending=False).head(5)\n",
    "\n",
    "top5_xgb.plot(kind='barh', title='Top 5 Important Features (XGBoost)', figsize=(6, 4))\n",
    "plt.gca().invert_yaxis()\n",
    "plt.xlabel('Feature Importance Score')\n",
    "plt.show()\n",
    "print(\"Classification Report for XGBoost Model for top 5:\\n\")\n",
    "print(classification_report(y_test, y_pred_xgb))"
   ]
  },
  {
   "cell_type": "markdown",
   "id": "2a0450e2-9abe-45c6-a0c2-a6fcf4cb3f03",
   "metadata": {},
   "source": [
    "##  Split the dataset and Define parameter grid for XGBoost"
   ]
  },
  {
   "cell_type": "code",
   "execution_count": 116,
   "id": "c4a76e15-0045-4fa4-af4a-0803387d164c",
   "metadata": {},
   "outputs": [],
   "source": [
    "X_train, X_test, y_train, y_test = train_test_split(X, y, test_size=0.2, random_state=42, stratify=y)\n",
    "\n",
    "param_grid = {\n",
    "    'n_estimators': [100, 200],\n",
    "    'max_depth': [3, 5, 7],\n",
    "    'learning_rate': [0.05, 0.1, 0.2],\n",
    "    'subsample': [0.8, 1],\n",
    "    'colsample_bytree': [0.8, 1],\n",
    "    'gamma': [0, 1]\n",
    "}\n",
    "\n",
    "xgb_clf = xgb.XGBClassifier(use_label_encoder=False, eval_metric='logloss', random_state=42)\n",
    "grid_search = GridSearchCV(xgb_clf, param_grid, cv=5, scoring='f1', n_jobs=-1, verbose=1)"
   ]
  },
  {
   "cell_type": "markdown",
   "id": "bd50df3e-c83b-41d7-8969-30bdd3b97c8e",
   "metadata": {},
   "source": [
    "# Fit the model"
   ]
  },
  {
   "cell_type": "code",
   "execution_count": 117,
   "id": "ba1564b2-d6ef-4b5a-b2bb-a43664141e82",
   "metadata": {},
   "outputs": [
    {
     "name": "stdout",
     "output_type": "stream",
     "text": [
      "Fitting 5 folds for each of 144 candidates, totalling 720 fits\n"
     ]
    },
    {
     "name": "stderr",
     "output_type": "stream",
     "text": [
      "C:\\Users\\yeman\\anaconda3\\Lib\\site-packages\\xgboost\\training.py:183: UserWarning: [19:06:48] WARNING: C:\\actions-runner\\_work\\xgboost\\xgboost\\src\\learner.cc:738: \n",
      "Parameters: { \"use_label_encoder\" } are not used.\n",
      "\n",
      "  bst.update(dtrain, iteration=i, fobj=obj)\n"
     ]
    }
   ],
   "source": [
    "grid_search.fit(X_train, y_train)\n",
    "best_xgb = grid_search.best_estimator_"
   ]
  },
  {
   "cell_type": "markdown",
   "id": "7bacebe7-33bc-48f5-8c42-4e7114c63025",
   "metadata": {},
   "source": [
    "## Feature importance and "
   ]
  },
  {
   "cell_type": "code",
   "execution_count": 118,
   "id": "57a932b5-7d2c-4f8a-8b03-4701bba4ff4e",
   "metadata": {},
   "outputs": [],
   "source": [
    "importances = pd.Series(best_xgb.feature_importances_, index=X.columns)\n",
    "top10_features = importances.sort_values(ascending=False).head(10).index\n",
    "top5_features = importances.sort_values(ascending=False).head(5).index"
   ]
  },
  {
   "cell_type": "markdown",
   "id": "d1730c49-815b-4084-8b0d-f479e9524964",
   "metadata": {},
   "source": [
    "## Evaluate top 10 top 5 features"
   ]
  },
  {
   "cell_type": "code",
   "execution_count": 119,
   "id": "709ede86-6e8a-4570-b0e1-a452c979c28a",
   "metadata": {},
   "outputs": [
    {
     "name": "stderr",
     "output_type": "stream",
     "text": [
      "C:\\Users\\yeman\\anaconda3\\Lib\\site-packages\\xgboost\\training.py:183: UserWarning: [19:06:48] WARNING: C:\\actions-runner\\_work\\xgboost\\xgboost\\src\\learner.cc:738: \n",
      "Parameters: { \"use_label_encoder\" } are not used.\n",
      "\n",
      "  bst.update(dtrain, iteration=i, fobj=obj)\n",
      "C:\\Users\\yeman\\anaconda3\\Lib\\site-packages\\xgboost\\training.py:183: UserWarning: [19:06:48] WARNING: C:\\actions-runner\\_work\\xgboost\\xgboost\\src\\learner.cc:738: \n",
      "Parameters: { \"use_label_encoder\" } are not used.\n",
      "\n",
      "  bst.update(dtrain, iteration=i, fobj=obj)\n"
     ]
    },
    {
     "name": "stdout",
     "output_type": "stream",
     "text": [
      "Classification Report for Top 10 Features:\n",
      "              precision    recall  f1-score   support\n",
      "\n",
      "           0       0.65      0.05      0.09       241\n",
      "           1       0.71      0.99      0.83       564\n",
      "\n",
      "    accuracy                           0.71       805\n",
      "   macro avg       0.68      0.52      0.46       805\n",
      "weighted avg       0.69      0.71      0.60       805\n",
      "\n",
      "Classification Report for Top 5 Features:\n",
      "              precision    recall  f1-score   support\n",
      "\n",
      "           0       0.83      0.02      0.04       241\n",
      "           1       0.70      1.00      0.83       564\n",
      "\n",
      "    accuracy                           0.71       805\n",
      "   macro avg       0.77      0.51      0.43       805\n",
      "weighted avg       0.74      0.71      0.59       805\n",
      "\n"
     ]
    }
   ],
   "source": [
    "best_xgb.fit(X_train[top10_features], y_train)\n",
    "y_pred_10 = best_xgb.predict(X_test[top10_features])\n",
    "print(\"Classification Report for Top 10 Features:\")\n",
    "print(classification_report(y_test, y_pred_10))\n",
    "\n",
    "best_xgb.fit(X_train[top5_features], y_train)\n",
    "y_pred_5 = best_xgb.predict(X_test[top5_features])\n",
    "print(\"Classification Report for Top 5 Features:\")\n",
    "print(classification_report(y_test, y_pred_5))"
   ]
  },
  {
   "cell_type": "markdown",
   "id": "349e5fff-8e86-4a9a-8690-ebf59cdb902e",
   "metadata": {},
   "source": [
    "## Apply Cross-validation score"
   ]
  },
  {
   "cell_type": "markdown",
   "id": "d3cd9ebe-cb55-4756-bba2-fe218d82878c",
   "metadata": {},
   "source": [
    "# Feature importance from initial model"
   ]
  },
  {
   "cell_type": "code",
   "execution_count": 122,
   "id": "f1a66e8c-1b00-452b-aa29-c4049dea3c4f",
   "metadata": {},
   "outputs": [
    {
     "name": "stderr",
     "output_type": "stream",
     "text": [
      "C:\\Users\\yeman\\anaconda3\\Lib\\site-packages\\xgboost\\training.py:183: UserWarning: [19:22:01] WARNING: C:\\actions-runner\\_work\\xgboost\\xgboost\\src\\learner.cc:738: \n",
      "Parameters: { \"use_label_encoder\" } are not used.\n",
      "\n",
      "  bst.update(dtrain, iteration=i, fobj=obj)\n"
     ]
    }
   ],
   "source": [
    "xgb_clf = xgb.XGBClassifier(use_label_encoder=False, eval_metric='logloss', random_state=42)\n",
    "xgb_clf.fit(X_train, y_train)\n",
    "\n",
    "importances = pd.Series(xgb_clf.feature_importances_, index=X.columns)\n",
    "top10_features = importances.sort_values(ascending=False).head(10).index\n",
    "top5_features = importances.sort_values(ascending=False).head(5).index"
   ]
  },
  {
   "cell_type": "markdown",
   "id": "b86417bb-b96f-4eac-98d6-f38933848270",
   "metadata": {},
   "source": [
    "## GridSearch parameters"
   ]
  },
  {
   "cell_type": "code",
   "execution_count": 124,
   "id": "9db4f524-0cdb-4ab1-9b1e-96022edff1bd",
   "metadata": {},
   "outputs": [],
   "source": [
    "param_grid = {\n",
    "    'n_estimators': [50, 100],\n",
    "    'max_depth': [3, 5],\n",
    "    'learning_rate': [0.05, 0.1],\n",
    "    'subsample': [0.8, 1]\n",
    "}"
   ]
  },
  {
   "cell_type": "markdown",
   "id": "90dffc02-0254-4b95-b96c-5e23abf6c38e",
   "metadata": {},
   "source": [
    "## Cross-validation score and Visualizations"
   ]
  },
  {
   "cell_type": "code",
   "execution_count": 130,
   "id": "8af0796d-7c3e-4bd4-91d9-46ca8c38814e",
   "metadata": {},
   "outputs": [],
   "source": [
    "def evaluate_model(X_subset, y, features, title):\n",
    "    X_train_sub = X_subset[features]\n",
    "    X_train_part, X_test_part, y_train_part, y_test_part = train_test_split(X_train_sub, y, stratify=y, test_size=0.2, random_state=42)\n",
    "\n",
    "    grid_search = GridSearchCV(xgb.XGBClassifier(use_label_encoder=False, eval_metric='logloss', random_state=42),\n",
    "                               param_grid, cv=5, scoring='f1', n_jobs=-1)\n",
    "    grid_search.fit(X_train_part, y_train_part)\n",
    "\n",
    "    best_model = grid_search.best_estimator_\n",
    "    y_pred = best_model.predict(X_test_part)\n",
    "\n",
    "    print(f\"\\nBest Parameters for {title}:\")\n",
    "    print(grid_search.best_params_)\n",
    "    print(f\"\\nClassification Report for {title}:\")\n",
    "    print(classification_report(y_test_part, y_pred))\n",
    "\n",
    "    scores = cross_val_score(best_model, X_train_sub, y, cv=5, scoring='roc_auc')\n",
    "    print(f\"Mean ROC-AUC (CV): {scores.mean():.4f} ± {scores.std():.4f}\")\n",
    "\n",
    "    ConfusionMatrixDisplay.from_estimator(best_model, X_test_part, y_test_part)\n",
    "    plt.title(f\"Confusion Matrix - {title}\")\n",
    "    plt.show()\n",
    "\n",
    "    RocCurveDisplay.from_estimator(best_model, X_test_part, y_test_part)\n",
    "    plt.title(f\"ROC Curve - {title}\")\n",
    "    plt.show()"
   ]
  },
  {
   "cell_type": "markdown",
   "id": "5962b91b-188f-4ced-80a3-7a8f1706d27d",
   "metadata": {},
   "source": [
    "## Evaluate top 10 features"
   ]
  },
  {
   "cell_type": "code",
   "execution_count": 131,
   "id": "c092423a-4924-4175-b0dd-0a36c74365e3",
   "metadata": {},
   "outputs": [
    {
     "name": "stderr",
     "output_type": "stream",
     "text": [
      "C:\\Users\\yeman\\anaconda3\\Lib\\site-packages\\xgboost\\training.py:183: UserWarning: [19:32:05] WARNING: C:\\actions-runner\\_work\\xgboost\\xgboost\\src\\learner.cc:738: \n",
      "Parameters: { \"use_label_encoder\" } are not used.\n",
      "\n",
      "  bst.update(dtrain, iteration=i, fobj=obj)\n",
      "C:\\Users\\yeman\\anaconda3\\Lib\\site-packages\\xgboost\\training.py:183: UserWarning: [19:32:05] WARNING: C:\\actions-runner\\_work\\xgboost\\xgboost\\src\\learner.cc:738: \n",
      "Parameters: { \"use_label_encoder\" } are not used.\n",
      "\n",
      "  bst.update(dtrain, iteration=i, fobj=obj)\n",
      "C:\\Users\\yeman\\anaconda3\\Lib\\site-packages\\xgboost\\training.py:183: UserWarning: [19:32:05] WARNING: C:\\actions-runner\\_work\\xgboost\\xgboost\\src\\learner.cc:738: \n",
      "Parameters: { \"use_label_encoder\" } are not used.\n",
      "\n",
      "  bst.update(dtrain, iteration=i, fobj=obj)\n"
     ]
    },
    {
     "name": "stdout",
     "output_type": "stream",
     "text": [
      "\n",
      "Best Parameters for Top 10 Features (XGBoost):\n",
      "{'learning_rate': 0.05, 'max_depth': 3, 'n_estimators': 50, 'subsample': 0.8}\n",
      "\n",
      "Classification Report for Top 10 Features (XGBoost):\n",
      "              precision    recall  f1-score   support\n",
      "\n",
      "           0       0.67      0.02      0.05       241\n",
      "           1       0.70      0.99      0.82       564\n",
      "\n",
      "    accuracy                           0.70       805\n",
      "   macro avg       0.69      0.51      0.44       805\n",
      "weighted avg       0.69      0.70      0.59       805\n",
      "\n"
     ]
    },
    {
     "name": "stderr",
     "output_type": "stream",
     "text": [
      "C:\\Users\\yeman\\anaconda3\\Lib\\site-packages\\xgboost\\training.py:183: UserWarning: [19:32:05] WARNING: C:\\actions-runner\\_work\\xgboost\\xgboost\\src\\learner.cc:738: \n",
      "Parameters: { \"use_label_encoder\" } are not used.\n",
      "\n",
      "  bst.update(dtrain, iteration=i, fobj=obj)\n",
      "C:\\Users\\yeman\\anaconda3\\Lib\\site-packages\\xgboost\\training.py:183: UserWarning: [19:32:05] WARNING: C:\\actions-runner\\_work\\xgboost\\xgboost\\src\\learner.cc:738: \n",
      "Parameters: { \"use_label_encoder\" } are not used.\n",
      "\n",
      "  bst.update(dtrain, iteration=i, fobj=obj)\n",
      "C:\\Users\\yeman\\anaconda3\\Lib\\site-packages\\xgboost\\training.py:183: UserWarning: [19:32:05] WARNING: C:\\actions-runner\\_work\\xgboost\\xgboost\\src\\learner.cc:738: \n",
      "Parameters: { \"use_label_encoder\" } are not used.\n",
      "\n",
      "  bst.update(dtrain, iteration=i, fobj=obj)\n"
     ]
    },
    {
     "name": "stdout",
     "output_type": "stream",
     "text": [
      "Mean ROC-AUC (CV): 0.5392 ± 0.0509\n"
     ]
    },
    {
     "data": {
      "image/png": "[encoded data removed]",
      "text/plain": [
       "<Figure size 640x480 with 2 Axes>"
      ]
     },
     "metadata": {},
     "output_type": "display_data"
    },
    {
     "data": {
      "image/png": "[encoded data removed]",
      "text/plain": [
       "<Figure size 640x480 with 1 Axes>"
      ]
     },
     "metadata": {},
     "output_type": "display_data"
    }
   ],
   "source": [
    "evaluate_model(X, y, top10_features, \"Top 10 Features (XGBoost)\")"
   ]
  },
  {
   "cell_type": "markdown",
   "id": "25e51265-41c8-409f-919b-ab8b1760a3c0",
   "metadata": {},
   "source": [
    "## Evaluate top 5 features"
   ]
  },
  {
   "cell_type": "code",
   "execution_count": 132,
   "id": "9c01de49-3477-4436-bb3a-7c2d2ecf4d82",
   "metadata": {},
   "outputs": [
    {
     "name": "stderr",
     "output_type": "stream",
     "text": [
      "C:\\Users\\yeman\\anaconda3\\Lib\\site-packages\\xgboost\\training.py:183: UserWarning: [19:32:39] WARNING: C:\\actions-runner\\_work\\xgboost\\xgboost\\src\\learner.cc:738: \n",
      "Parameters: { \"use_label_encoder\" } are not used.\n",
      "\n",
      "  bst.update(dtrain, iteration=i, fobj=obj)\n",
      "C:\\Users\\yeman\\anaconda3\\Lib\\site-packages\\xgboost\\training.py:183: UserWarning: [19:32:39] WARNING: C:\\actions-runner\\_work\\xgboost\\xgboost\\src\\learner.cc:738: \n",
      "Parameters: { \"use_label_encoder\" } are not used.\n",
      "\n",
      "  bst.update(dtrain, iteration=i, fobj=obj)\n",
      "C:\\Users\\yeman\\anaconda3\\Lib\\site-packages\\xgboost\\training.py:183: UserWarning: [19:32:39] WARNING: C:\\actions-runner\\_work\\xgboost\\xgboost\\src\\learner.cc:738: \n",
      "Parameters: { \"use_label_encoder\" } are not used.\n",
      "\n",
      "  bst.update(dtrain, iteration=i, fobj=obj)\n"
     ]
    },
    {
     "name": "stdout",
     "output_type": "stream",
     "text": [
      "\n",
      "Best Parameters for Top 5 Features (XGBoost):\n",
      "{'learning_rate': 0.05, 'max_depth': 3, 'n_estimators': 50, 'subsample': 0.8}\n",
      "\n",
      "Classification Report for Top 5 Features (XGBoost):\n",
      "              precision    recall  f1-score   support\n",
      "\n",
      "           0       0.83      0.02      0.04       241\n",
      "           1       0.70      1.00      0.83       564\n",
      "\n",
      "    accuracy                           0.71       805\n",
      "   macro avg       0.77      0.51      0.43       805\n",
      "weighted avg       0.74      0.71      0.59       805\n",
      "\n"
     ]
    },
    {
     "name": "stderr",
     "output_type": "stream",
     "text": [
      "C:\\Users\\yeman\\anaconda3\\Lib\\site-packages\\xgboost\\training.py:183: UserWarning: [19:32:39] WARNING: C:\\actions-runner\\_work\\xgboost\\xgboost\\src\\learner.cc:738: \n",
      "Parameters: { \"use_label_encoder\" } are not used.\n",
      "\n",
      "  bst.update(dtrain, iteration=i, fobj=obj)\n",
      "C:\\Users\\yeman\\anaconda3\\Lib\\site-packages\\xgboost\\training.py:183: UserWarning: [19:32:39] WARNING: C:\\actions-runner\\_work\\xgboost\\xgboost\\src\\learner.cc:738: \n",
      "Parameters: { \"use_label_encoder\" } are not used.\n",
      "\n",
      "  bst.update(dtrain, iteration=i, fobj=obj)\n",
      "C:\\Users\\yeman\\anaconda3\\Lib\\site-packages\\xgboost\\training.py:183: UserWarning: [19:32:39] WARNING: C:\\actions-runner\\_work\\xgboost\\xgboost\\src\\learner.cc:738: \n",
      "Parameters: { \"use_label_encoder\" } are not used.\n",
      "\n",
      "  bst.update(dtrain, iteration=i, fobj=obj)\n"
     ]
    },
    {
     "name": "stdout",
     "output_type": "stream",
     "text": [
      "Mean ROC-AUC (CV): 0.5372 ± 0.0670\n"
     ]
    },
    {
     "data": {
      "image/png": "[encoded data removed]",
      "text/plain": [
       "<Figure size 640x480 with 2 Axes>"
      ]
     },
     "metadata": {},
     "output_type": "display_data"
    },
    {
     "data": {
      "image/png": "[encoded data removed]",
      "text/plain": [
       "<Figure size 640x480 with 1 Axes>"
      ]
     },
     "metadata": {},
     "output_type": "display_data"
    }
   ],
   "source": [
    "evaluate_model(X, y, top5_features, \"Top 5 Features (XGBoost)\")"
   ]
  },
  {
   "cell_type": "code",
   "execution_count": null,
   "id": "2bc15468-f115-4343-b66e-9c1538b2fa70",
   "metadata": {},
   "outputs": [],
   "source": []
  }
 ],
 "metadata": {
  "kernelspec": {
   "display_name": "Python 3 (ipykernel)",
   "language": "python",
   "name": "python3"
  },
  "language_info": {
   "codemirror_mode": {
    "name": "ipython",
    "version": 3
   },
   "file_extension": ".py",
   "mimetype": "text/x-python",
   "name": "python",
   "nbconvert_exporter": "python",
   "pygments_lexer": "ipython3",
   "version": "3.12.7"
  }
 },
 "nbformat": 4,
 "nbformat_minor": 5
}
